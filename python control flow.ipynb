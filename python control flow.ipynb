{
 "cells": [
  {
   "cell_type": "code",
   "execution_count": 1,
   "id": "fc8c1729-d57f-4288-8a85-7b478974ee2b",
   "metadata": {},
   "outputs": [
    {
     "name": "stdin",
     "output_type": "stream",
     "text": [
      "Enter a number:  2\n"
     ]
    },
    {
     "name": "stdout",
     "output_type": "stream",
     "text": [
      "Positive\n"
     ]
    }
   ],
   "source": [
    "#Basic if -else statement.\n",
    "\n",
    "#1. Write a Python program to check if a given number is positive or negative.\n",
    "def check_positive_negative(number):\n",
    "    if number > 0:\n",
    "        print(\"Positive\")\n",
    "    elif number <0:\n",
    "         print(\"Negative\")\n",
    "    else:\n",
    "         print(\"Zero\")\n",
    "num =int(input(\"Enter a number: \"))\n",
    "check_positive_negative(num)\n"
   ]
  },
  {
   "cell_type": "code",
   "execution_count": 2,
   "id": "9b61bfd0-7f46-4f7a-a788-c553787389f9",
   "metadata": {},
   "outputs": [
    {
     "name": "stdin",
     "output_type": "stream",
     "text": [
      "Enter your age:  18\n"
     ]
    },
    {
     "name": "stdout",
     "output_type": "stream",
     "text": [
      "Eligible to vote\n"
     ]
    }
   ],
   "source": [
    "# 2. Create a program that determines if a person is eligible to vote based on their age.\n",
    "def check_voting_eligibility(age):\n",
    "    if age >= 18:\n",
    "        print(\"Eligible to vote\")\n",
    "    else:\n",
    "        print(\"Not eligible to vote\")\n",
    "\n",
    "# Example usage:\n",
    "age = int(input(\"Enter your age: \"))\n",
    "check_voting_eligibility(age)\n"
   ]
  },
  {
   "cell_type": "code",
   "execution_count": 3,
   "id": "c726642d-eb66-4fee-a901-2655a231f8cc",
   "metadata": {},
   "outputs": [
    {
     "name": "stdin",
     "output_type": "stream",
     "text": [
      "Enter first number  4\n",
      "Enter second number  5\n"
     ]
    },
    {
     "name": "stdout",
     "output_type": "stream",
     "text": [
      "Maximum 5\n"
     ]
    }
   ],
   "source": [
    "#3. Develop a program to find the maximum of two numbers using if-else statements.\n",
    "def find_max(num1,num2):\n",
    "    if num1>num2:\n",
    "        return num1\n",
    "    else:\n",
    "        return num2\n",
    "    \n",
    "a=int(input(\"Enter first number \"))   \n",
    "b=int(input(\"Enter second number \"))\n",
    "print(\"Maximum\",find_max(a,b))"
   ]
  },
  {
   "cell_type": "code",
   "execution_count": 4,
   "id": "89efd41d-9965-4cc1-a9b8-cb21d3b5537b",
   "metadata": {},
   "outputs": [
    {
     "name": "stdin",
     "output_type": "stream",
     "text": [
      "Enter a year:  2003\n"
     ]
    },
    {
     "name": "stdout",
     "output_type": "stream",
     "text": [
      "Not a leap year\n"
     ]
    }
   ],
   "source": [
    "#4. Write a Python script to classify a given year as a leap year or not.\n",
    "def is_leap_year(year):\n",
    "    if (year % 4 == 0 and year % 100 != 0) or (year % 400 == 0):\n",
    "        print(\"Leap year\")\n",
    "    else:\n",
    "        print(\"Not a leap year\")\n",
    "\n",
    "yr = int(input(\"Enter a year: \"))\n",
    "is_leap_year(yr)\n"
   ]
  },
  {
   "cell_type": "code",
   "execution_count": 5,
   "id": "fa9e8de7-a8f7-44db-bf8a-cd7b7f2f602f",
   "metadata": {},
   "outputs": [
    {
     "name": "stdin",
     "output_type": "stream",
     "text": [
      "enter a character  e\n"
     ]
    },
    {
     "name": "stdout",
     "output_type": "stream",
     "text": [
      "Vowel\n"
     ]
    }
   ],
   "source": [
    "#5. Create a program that checks whether a character is a vowel or a consonant.\n",
    "def check_v_c(char):\n",
    "    if char.lower() in 'aeiou':\n",
    "        print(\"Vowel\")\n",
    "    else:\n",
    "        print(\"Consonent\")\n",
    "character= input(\"enter a character \")\n",
    "check_v_c(character)"
   ]
  },
  {
   "cell_type": "code",
   "execution_count": 6,
   "id": "d94cbfd3-82a9-45de-abba-52a0fc38a344",
   "metadata": {},
   "outputs": [
    {
     "name": "stdin",
     "output_type": "stream",
     "text": [
      "Enter a number 567\n"
     ]
    },
    {
     "name": "stdout",
     "output_type": "stream",
     "text": [
      "Number is odd\n"
     ]
    }
   ],
   "source": [
    "#6. Implement a program to determine whether a given number is even or odd.\n",
    "def check_e_o(number):\n",
    "    if number%2==0:\n",
    "        print(\"Number is even\")\n",
    "    else:\n",
    "        print(\"Number is odd\")\n",
    "num=int(input(\"Enter a number\"))\n",
    "check_e_o(num)"
   ]
  },
  {
   "cell_type": "code",
   "execution_count": 7,
   "id": "8bc54dd4-feb7-4223-8d9e-c5b8d2cc736d",
   "metadata": {},
   "outputs": [
    {
     "name": "stdin",
     "output_type": "stream",
     "text": [
      "Enter a number 56\n"
     ]
    },
    {
     "name": "stdout",
     "output_type": "stream",
     "text": [
      "Absolute value :  56\n"
     ]
    }
   ],
   "source": [
    "#7. Write a Python function to calculate the absolute value of a number without using the `abs()` function.\n",
    "def absolute(number):\n",
    "    if number<0:\n",
    "        return -number\n",
    "    else:\n",
    "        return number\n",
    "value= int(input(\"Enter a number\"))\n",
    "print(\"Absolute value : \",absolute(value))\n"
   ]
  },
  {
   "cell_type": "code",
   "execution_count": 8,
   "id": "929fc8b0-7b61-4960-aa8a-621328b10a81",
   "metadata": {},
   "outputs": [
    {
     "name": "stdin",
     "output_type": "stream",
     "text": [
      "Enter the first number:  56\n",
      "Enter the second number:  67\n",
      "Enter the third number:  78\n"
     ]
    },
    {
     "name": "stdout",
     "output_type": "stream",
     "text": [
      "Largest: 78.0\n"
     ]
    }
   ],
   "source": [
    "#8. Develop a program that determines the largest of three given numbers using if-else statements.\n",
    "def find_largest(num1, num2, num3):\n",
    "    if num1 >= num2 and num1 >= num3:\n",
    "        return num1\n",
    "    elif num2 >= num1 and num2 >= num3:\n",
    "        return num2\n",
    "    else:\n",
    "        return num3\n",
    "\n",
    "x = float(input(\"Enter the first number: \"))\n",
    "y = float(input(\"Enter the second number: \"))\n",
    "z = float(input(\"Enter the third number: \"))\n",
    "print(\"Largest:\", find_largest(x, y, z))"
   ]
  },
  {
   "cell_type": "code",
   "execution_count": 9,
   "id": "7cdeb5ae-f094-4f02-8607-d281e927b760",
   "metadata": {},
   "outputs": [
    {
     "name": "stdin",
     "output_type": "stream",
     "text": [
      "Enter a string:  level\n"
     ]
    },
    {
     "name": "stdout",
     "output_type": "stream",
     "text": [
      "Palindrome\n"
     ]
    }
   ],
   "source": [
    "#9. Create a program that checks if a given string is a palindrome.\n",
    "def is_palindrome(string):\n",
    "    reversed_string = string[::-1]\n",
    "    if string == reversed_string:\n",
    "        print(\"Palindrome\")\n",
    "    else:\n",
    "        print(\"Not a palindrome\")\n",
    "\n",
    "text = input(\"Enter a string: \")\n",
    "is_palindrome(text)"
   ]
  },
  {
   "cell_type": "code",
   "execution_count": 10,
   "id": "a9b83424-4c30-4634-aee0-ea66e66fc11b",
   "metadata": {},
   "outputs": [
    {
     "name": "stdin",
     "output_type": "stream",
     "text": [
      "Enter the student's score:  79\n"
     ]
    },
    {
     "name": "stdout",
     "output_type": "stream",
     "text": [
      "Grade: C\n"
     ]
    }
   ],
   "source": [
    "#10. Write a Python program to calculate the grade based on a student's score.\n",
    "def calculate_grade(score):\n",
    "    if 90 <= score <= 100:\n",
    "        return 'A'\n",
    "    elif 80 <= score < 90:\n",
    "        return 'B'\n",
    "    elif 70 <= score < 80:\n",
    "        return 'C'\n",
    "    elif 60 <= score < 70:\n",
    "        return 'D'\n",
    "    else:\n",
    "        return 'F'\n",
    "\n",
    "# Example usage:\n",
    "student_score = float(input(\"Enter the student's score: \"))\n",
    "print(\"Grade:\", calculate_grade(student_score))"
   ]
  },
  {
   "cell_type": "code",
   "execution_count": 11,
   "id": "df590c26-6258-418c-b328-9ce7927dc892",
   "metadata": {},
   "outputs": [],
   "source": [
    "# Nested if-else statement"
   ]
  },
  {
   "cell_type": "code",
   "execution_count": 12,
   "id": "919f6a9d-a572-4b8c-bd3a-61b24cb28b70",
   "metadata": {},
   "outputs": [
    {
     "name": "stdin",
     "output_type": "stream",
     "text": [
      "Enter the first number:  7\n",
      "Enter the second number:  8\n",
      "Enter the third number:  90\n"
     ]
    },
    {
     "name": "stdout",
     "output_type": "stream",
     "text": [
      "Largest: 90.0\n"
     ]
    }
   ],
   "source": [
    "#11. Write a program to find the largest among three numbers using nested if-else statements.\n",
    "def find_largest_nested(num1, num2, num3):\n",
    "    if num1 >= num2:\n",
    "        if num1 >= num3:\n",
    "            return num1\n",
    "        else:\n",
    "            return num3\n",
    "    elif num2 >= num3:\n",
    "        return num2\n",
    "    else:\n",
    "        return num3\n",
    "\n",
    "a = float(input(\"Enter the first number: \"))\n",
    "b = float(input(\"Enter the second number: \"))\n",
    "c = float(input(\"Enter the third number: \"))\n",
    "print(\"Largest:\", find_largest_nested(a, b, c))"
   ]
  },
  {
   "cell_type": "code",
   "execution_count": 13,
   "id": "4cf3aeaf-d5c3-41aa-8eab-056a919b9e34",
   "metadata": {},
   "outputs": [
    {
     "name": "stdin",
     "output_type": "stream",
     "text": [
      "Enter length of first side:  4\n",
      "Enter length of second side:  4\n",
      "Enter length of third side:  5\n"
     ]
    },
    {
     "name": "stdout",
     "output_type": "stream",
     "text": [
      "Triangle type is:  Isoseles Triangle\n"
     ]
    }
   ],
   "source": [
    "#12. Implement a program to determine if a triangle is equilateral, isosceles, or scalene.\n",
    "def tri(side1,side2,side3):\n",
    "    if side1==side2==side3:\n",
    "        return \"Equilateral triangle\"\n",
    "    elif side1==side2 or side1==side3 or side2== side3:\n",
    "        return \"Isoseles Triangle\"\n",
    "    else:\n",
    "        return \"Scalene triangle\"\n",
    "    \n",
    "    \n",
    "s1=float(input(\"Enter length of first side: \"))   \n",
    "s2=float(input(\"Enter length of second side: \")) \n",
    "s3=float(input(\"Enter length of third side: \"))\n",
    "print(\"Triangle type is: \",tri(s1,s2,s3))"
   ]
  },
  {
   "cell_type": "code",
   "execution_count": 14,
   "id": "9d524912-9ff3-4adf-b522-616da6f9b3c9",
   "metadata": {},
   "outputs": [
    {
     "name": "stdin",
     "output_type": "stream",
     "text": [
      "Enter a year:  2004\n"
     ]
    },
    {
     "name": "stdout",
     "output_type": "stream",
     "text": [
      "Leap year but not a century year\n"
     ]
    }
   ],
   "source": [
    "#13. Develop a program that checks if a year is a leap year and also if it is a century year.\n",
    "def check_leap_century_year(year):\n",
    "    if year % 4 == 0:\n",
    "        if year % 100 == 0:\n",
    "            if year % 400 == 0:\n",
    "                print(\"Leap year and a century year\")\n",
    "            else:\n",
    "                print(\"Century year but not a leap year\")\n",
    "        else:\n",
    "            print(\"Leap year but not a century year\")\n",
    "    else:\n",
    "        print(\"Not a leap year or a century year\")\n",
    "\n",
    "\n",
    "yr = int(input(\"Enter a year: \"))\n",
    "check_leap_century_year(yr)\n"
   ]
  },
  {
   "cell_type": "code",
   "execution_count": 15,
   "id": "75a2aaaf-fa48-4305-a218-08763735a728",
   "metadata": {},
   "outputs": [
    {
     "name": "stdin",
     "output_type": "stream",
     "text": [
      "Enter a number:  0.5\n"
     ]
    },
    {
     "name": "stdout",
     "output_type": "stream",
     "text": [
      "Positive\n"
     ]
    }
   ],
   "source": [
    "#14. Write a Python script to determine if a number is positive, negative, or zero.\n",
    "def check_positive_negative_zero(number):\n",
    "    if number > 0:\n",
    "        print(\"Positive\")\n",
    "    elif number < 0:\n",
    "        print(\"Negative\")\n",
    "    else:\n",
    "        print(\"Zero\")\n",
    "\n",
    "\n",
    "num = float(input(\"Enter a number: \"))\n",
    "check_positive_negative_zero(num)\n"
   ]
  },
  {
   "cell_type": "code",
   "execution_count": 16,
   "id": "2e68c99b-248e-4f11-9d98-8f6ccc2301d4",
   "metadata": {},
   "outputs": [
    {
     "name": "stdin",
     "output_type": "stream",
     "text": [
      "Enter the person's age:  16\n"
     ]
    },
    {
     "name": "stdout",
     "output_type": "stream",
     "text": [
      "Teenager\n"
     ]
    }
   ],
   "source": [
    "#15. Create a program to check if a person is a teenager (between 13 and 19 years old).\n",
    "def is_teenager(age):\n",
    "    if 13 <= age <= 19:\n",
    "        print(\"Teenager\")\n",
    "    else:\n",
    "        print(\"Not a teenager\")\n",
    "\n",
    "person_age = int(input(\"Enter the person's age: \"))\n",
    "is_teenager(person_age)"
   ]
  },
  {
   "cell_type": "code",
   "execution_count": 17,
   "id": "0f6c5516-a9a6-49be-a528-a1d4c3d624f0",
   "metadata": {},
   "outputs": [
    {
     "name": "stdin",
     "output_type": "stream",
     "text": [
      "Enter the angle measure:  95\n"
     ]
    },
    {
     "name": "stdout",
     "output_type": "stream",
     "text": [
      "Obtuse angle\n"
     ]
    }
   ],
   "source": [
    "#16. Develop a program that determines the type of angle based on its measure (acute, obtuse, or right).\n",
    "def classify_angle(angle_measure):\n",
    "    if angle_measure < 90:\n",
    "        print(\"Acute angle\")\n",
    "    elif angle_measure == 90:\n",
    "        print(\"Right angle\")\n",
    "    else:\n",
    "        print(\"Obtuse angle\")\n",
    "\n",
    "\n",
    "angle = float(input(\"Enter the angle measure: \"))\n",
    "classify_angle(angle)\n"
   ]
  },
  {
   "cell_type": "code",
   "execution_count": 18,
   "id": "b23743b6-9940-4c8c-8478-f37518c3e06e",
   "metadata": {},
   "outputs": [
    {
     "name": "stdin",
     "output_type": "stream",
     "text": [
      "Enter the coefficient a:  1\n",
      "Enter the coefficient b:  2\n",
      "Enter the coefficient c:  3\n"
     ]
    },
    {
     "name": "stdout",
     "output_type": "stream",
     "text": [
      "Quadratic roots: No real roots\n"
     ]
    }
   ],
   "source": [
    "#17. Write a Python program to calculate the roots of a quadratic equation.\n",
    "import math\n",
    "\n",
    "def quadratic_roots(a, b, c):\n",
    "    discriminant = b**2 - 4*a*c\n",
    "    if discriminant > 0:\n",
    "        root1 = (-b + math.sqrt(discriminant)) / (2*a)\n",
    "        root2 = (-b - math.sqrt(discriminant)) / (2*a)\n",
    "        return root1, root2\n",
    "    elif discriminant == 0:\n",
    "        root = -b / (2*a)\n",
    "        return root,\n",
    "    else:\n",
    "        return \"No real roots\"\n",
    "\n",
    "a_coeff = float(input(\"Enter the coefficient a: \"))\n",
    "b_coeff = float(input(\"Enter the coefficient b: \"))\n",
    "c_coeff = float(input(\"Enter the coefficient c: \"))\n",
    "print(\"Quadratic roots:\", quadratic_roots(a_coeff, b_coeff, c_coeff))\n"
   ]
  },
  {
   "cell_type": "code",
   "execution_count": 21,
   "id": "0e3f9782-88a9-443e-a5f8-19c7fa1f17b7",
   "metadata": {},
   "outputs": [
    {
     "name": "stdin",
     "output_type": "stream",
     "text": [
      "Enter day numer(1-7):  2\n"
     ]
    },
    {
     "name": "stdout",
     "output_type": "stream",
     "text": [
      "Days of the week Tuesday\n"
     ]
    }
   ],
   "source": [
    "#18. Implement a program to determine the day of the week based on a user-provided number (1 for Monday, 2\n",
    "#    for Tuesday, etc.).\n",
    "def daysofweek(day):\n",
    "    if day==1:\n",
    "        return \"Monday\"\n",
    "    elif day==2:\n",
    "        return \"Tuesday\"\n",
    "    elif day==3:\n",
    "        return \"Wednesday\"\n",
    "    elif day==4:\n",
    "        return \"Thursday\"\n",
    "    elif day==5:\n",
    "        return \"Friday\"\n",
    "    elif day==6:\n",
    "        return \"Saturday\"\n",
    "    elif day==7:\n",
    "        return \"Sunday\"\n",
    "    else:\n",
    "        return \"Invalid day number\"\n",
    "    \n",
    "daynum= int(input(\"Enter day numer(1-7): \"))\n",
    "print(\"Days of the week\",daysofweek(daynum))"
   ]
  },
  {
   "cell_type": "code",
   "execution_count": 22,
   "id": "3483b3d2-c2ea-4e7f-b9bc-5d58cfe770e9",
   "metadata": {},
   "outputs": [
    {
     "name": "stdin",
     "output_type": "stream",
     "text": [
      "Enter a year:  2000\n"
     ]
    },
    {
     "name": "stdout",
     "output_type": "stream",
     "text": [
      "Leap year and divisible by 400\n"
     ]
    }
   ],
   "source": [
    "#19. Create a program that determines if a year is a leap year and also if it is evenly divisible by 400.\n",
    "def check_leap_year_divisible_by_400(year):\n",
    "    if year % 4 == 0:\n",
    "        if year % 100 == 0:\n",
    "            if year % 400 == 0:\n",
    "                print(\"Leap year and divisible by 400\")\n",
    "            else:\n",
    "                print(\"Not divisible by 400\")\n",
    "        else:\n",
    "            print(\"Leap year but not divisible by 400\")\n",
    "    else:\n",
    "        print(\"Not a leap year\")\n",
    "\n",
    "yr = int(input(\"Enter a year: \"))\n",
    "check_leap_year_divisible_by_400(yr)"
   ]
  },
  {
   "cell_type": "code",
   "execution_count": 23,
   "id": "24711f90-f434-46ff-b7f0-6c67de5ea89d",
   "metadata": {},
   "outputs": [
    {
     "name": "stdin",
     "output_type": "stream",
     "text": [
      "Enter a number:  45\n"
     ]
    },
    {
     "name": "stdout",
     "output_type": "stream",
     "text": [
      "Not a prime number\n"
     ]
    }
   ],
   "source": [
    "#20. Develop a program that checks if a given number is prime or not using nested if-else statements.\n",
    "def is_prime(number):\n",
    "    if number > 1:\n",
    "        for i in range(2, int(math.sqrt(number)) + 1):\n",
    "            if number % i == 0:\n",
    "                print(\"Not a prime number\")\n",
    "                break\n",
    "        else:\n",
    "            print(\"Prime number\")\n",
    "    else:\n",
    "        print(\"Not a prime number\")\n",
    "\n",
    "num = int(input(\"Enter a number: \"))\n",
    "is_prime(num)"
   ]
  },
  {
   "cell_type": "code",
   "execution_count": 24,
   "id": "738dbc1d-ae4e-4fb4-962f-0e3ded67cea7",
   "metadata": {},
   "outputs": [],
   "source": [
    "#Elif statement"
   ]
  },
  {
   "cell_type": "code",
   "execution_count": 25,
   "id": "da0441dc-3efe-4edc-b1e9-5be0a0d7877c",
   "metadata": {},
   "outputs": [
    {
     "name": "stdin",
     "output_type": "stream",
     "text": [
      "Enter the student's score:  91\n"
     ]
    },
    {
     "name": "stdout",
     "output_type": "stream",
     "text": [
      "Grade: A\n"
     ]
    }
   ],
   "source": [
    "#21. Write a Python program to assign grades based on different ranges of scores using elif statements.\n",
    "def assign_grade(score):\n",
    "    if 90 <= score <= 100:\n",
    "        print(\"Grade: A\")\n",
    "    elif 80 <= score < 90:\n",
    "        print(\"Grade: B\")\n",
    "    elif 70 <= score < 80:\n",
    "        print(\"Grade: C\")\n",
    "    elif 60 <= score < 70:\n",
    "        print(\"Grade: D\")\n",
    "    else:\n",
    "        print(\"Grade: F\")\n",
    "\n",
    "student_score = float(input(\"Enter the student's score: \"))\n",
    "assign_grade(student_score)"
   ]
  },
  {
   "cell_type": "code",
   "execution_count": 26,
   "id": "1dcbe8b1-301c-4e06-b947-25090fc7285f",
   "metadata": {},
   "outputs": [
    {
     "name": "stdin",
     "output_type": "stream",
     "text": [
      "Enter the first angle:  56\n",
      "Enter the second angle:  65\n",
      "Enter the third angle:  76\n"
     ]
    },
    {
     "name": "stdout",
     "output_type": "stream",
     "text": [
      "Acute-angled triangle\n"
     ]
    }
   ],
   "source": [
    "#22. Implement a program to determine the type of a triangle based on its angles.\n",
    "def classify_triangle_angles(angle1, angle2, angle3):\n",
    "    if angle1 == 90 or angle2 == 90 or angle3 == 90:\n",
    "        print(\"Right-angled triangle\")\n",
    "    elif angle1 > 90 or angle2 > 90 or angle3 > 90:\n",
    "        print(\"Obtuse-angled triangle\")\n",
    "    else:\n",
    "        print(\"Acute-angled triangle\")\n",
    "\n",
    "a1 = float(input(\"Enter the first angle: \"))\n",
    "a2 = float(input(\"Enter the second angle: \"))\n",
    "a3 = float(input(\"Enter the third angle: \"))\n",
    "classify_triangle_angles(a1, a2, a3)"
   ]
  },
  {
   "cell_type": "code",
   "execution_count": 27,
   "id": "c0a66d85-e073-48ff-aa70-eea9c8ca156d",
   "metadata": {},
   "outputs": [
    {
     "name": "stdin",
     "output_type": "stream",
     "text": [
      "Enter the person's BMI:  45\n"
     ]
    },
    {
     "name": "stdout",
     "output_type": "stream",
     "text": [
      "Obese\n"
     ]
    }
   ],
   "source": [
    "#23. Develop a program to categorize a given person's BMI into underweight, normal, overweight, or obese using\n",
    "#     elif statements.\n",
    "def categorize_bmi(bmi):\n",
    "    if bmi < 18.5:\n",
    "        print(\"Underweight\")\n",
    "    elif 18.5 <= bmi < 24.9:\n",
    "        print(\"Normal weight\")\n",
    "    elif 25 <= bmi < 29.9:\n",
    "        print(\"Overweight\")\n",
    "    else:\n",
    "        print(\"Obese\")\n",
    "\n",
    "person_bmi = float(input(\"Enter the person's BMI: \"))\n",
    "categorize_bmi(person_bmi)"
   ]
  },
  {
   "cell_type": "code",
   "execution_count": 28,
   "id": "fc0e7b04-bcf0-4db8-96b6-eebe16001942",
   "metadata": {},
   "outputs": [
    {
     "name": "stdin",
     "output_type": "stream",
     "text": [
      "Enter a number:  -4\n"
     ]
    },
    {
     "name": "stdout",
     "output_type": "stream",
     "text": [
      "Negative\n"
     ]
    }
   ],
   "source": [
    "#24. Create a program that determines whether a given number is positive, negative, or zero using elif\n",
    "#    statements.\n",
    "def check_number_sign(number):\n",
    "    if number > 0:\n",
    "        print(\"Positive\")\n",
    "    elif number < 0:\n",
    "        print(\"Negative\")\n",
    "    else:\n",
    "        print(\"Zero\")\n",
    "\n",
    "num = float(input(\"Enter a number: \"))\n",
    "check_number_sign(num)"
   ]
  },
  {
   "cell_type": "code",
   "execution_count": 29,
   "id": "83f872fd-f961-4946-9c79-0a091053e478",
   "metadata": {},
   "outputs": [
    {
     "name": "stdin",
     "output_type": "stream",
     "text": [
      "Enter a character:  fhdbh\n"
     ]
    },
    {
     "name": "stdout",
     "output_type": "stream",
     "text": [
      "Lowercase character\n"
     ]
    }
   ],
   "source": [
    "#25. Write a Python script to determine the type of a character (uppercase, lowercase, or special) using elif\n",
    "#    statements.\n",
    "def classify_character(char):\n",
    "    if char.isupper():\n",
    "        print(\"Uppercase character\")\n",
    "    elif char.islower():\n",
    "        print(\"Lowercase character\")\n",
    "    else:\n",
    "        print(\"Special character\")\n",
    "\n",
    "character = input(\"Enter a character: \")\n",
    "classify_character(character)"
   ]
  },
  {
   "cell_type": "code",
   "execution_count": 30,
   "id": "e6bb3cd0-b74f-43c5-94c7-c785e774f386",
   "metadata": {},
   "outputs": [
    {
     "name": "stdin",
     "output_type": "stream",
     "text": [
      "Enter the purchase amount:  200\n"
     ]
    },
    {
     "name": "stdout",
     "output_type": "stream",
     "text": [
      "Discounted Price: 200.0\n"
     ]
    }
   ],
   "source": [
    "#26. Implement a program to calculate the discounted price based on different purchase amounts using elif\n",
    "#    statements.\n",
    "def calculate_discounted_price(amount):\n",
    "    if amount >= 1000:\n",
    "        discount = 0.1\n",
    "    elif amount >= 500:\n",
    "        discount = 0.05\n",
    "    else:\n",
    "        discount = 0.0\n",
    "\n",
    "    discounted_price = amount - (amount * discount)\n",
    "    print(\"Discounted Price:\", discounted_price)\n",
    "\n",
    "purchase_amount = float(input(\"Enter the purchase amount: \"))\n",
    "calculate_discounted_price(purchase_amount)"
   ]
  },
  {
   "cell_type": "code",
   "execution_count": 31,
   "id": "d86eb123-0c68-4dc4-9499-2f04668b333b",
   "metadata": {},
   "outputs": [
    {
     "name": "stdin",
     "output_type": "stream",
     "text": [
      "Enter the consumed units:  55\n"
     ]
    },
    {
     "name": "stdout",
     "output_type": "stream",
     "text": [
      "Electricity Bill: 140.0\n"
     ]
    }
   ],
   "source": [
    "#27. Develop a program to calculate the electricity bill based on different consumption slabs using elif\n",
    "#    statements.\n",
    "def calculate_electricity_bill(units):\n",
    "    if units <= 50:\n",
    "        bill = units * 2.5\n",
    "    elif 50 < units <= 100:\n",
    "        bill = 50 * 2.5 + (units - 50) * 3.0\n",
    "    else:\n",
    "        bill = 50 * 2.5 + 50 * 3.0 + (units - 100) * 4.0\n",
    "\n",
    "    print(\"Electricity Bill:\", bill)\n",
    "\n",
    "consumed_units = float(input(\"Enter the consumed units: \"))\n",
    "calculate_electricity_bill(consumed_units)"
   ]
  },
  {
   "cell_type": "code",
   "execution_count": 32,
   "id": "e326410f-fd5e-4aa3-bc7d-a117cded0f01",
   "metadata": {},
   "outputs": [
    {
     "name": "stdin",
     "output_type": "stream",
     "text": [
      "Enter the number of sides:  3\n",
      "Enter the sum of angles:  45\n"
     ]
    },
    {
     "name": "stdout",
     "output_type": "stream",
     "text": [
      "Other type of quadrilateral\n"
     ]
    }
   ],
   "source": [
    "#28. Create a program to determine the type of quadrilateral based on its angles and sides using elif\n",
    "#     statements.\n",
    "\n",
    "def classify_quadrilateral(sides, angles):\n",
    "    if sides == 4 and angles == 360:\n",
    "        print(\"Parallelogram\")\n",
    "    elif sides == 4 and angles == 360 and all(angle == 90 for angle in angles):\n",
    "        print(\"Rectangle\")\n",
    "    elif sides == 4 and angles == 360 and any(angle == 90 for angle in angles):\n",
    "        print(\"Quadrilateral with at least one right angle\")\n",
    "    else:\n",
    "        print(\"Other type of quadrilateral\")\n",
    "\n",
    "num_sides = int(input(\"Enter the number of sides: \"))\n",
    "total_angles = int(input(\"Enter the sum of angles: \"))\n",
    "classify_quadrilateral(num_sides, total_angles)"
   ]
  },
  {
   "cell_type": "code",
   "execution_count": 34,
   "id": "f2201967-3b13-4879-a11f-2f2d15ee0209",
   "metadata": {},
   "outputs": [
    {
     "name": "stdin",
     "output_type": "stream",
     "text": [
      "Enter the month (1-12):  12\n"
     ]
    },
    {
     "name": "stdout",
     "output_type": "stream",
     "text": [
      "Winter\n"
     ]
    }
   ],
   "source": [
    "#29. Write a Python script to determine the season based on a user-provided month using elif statements.\n",
    "def determine_season(month):\n",
    "    if 3 <= month <= 5:\n",
    "        print(\"Spring\")\n",
    "    elif 6 <= month <= 8:\n",
    "        print(\"Summer\")\n",
    "    elif 9 <= month <= 11:\n",
    "        print(\"Autumn\")\n",
    "    else:\n",
    "        print(\"Winter\")\n",
    "\n",
    "user_month = int(input(\"Enter the month (1-12): \"))\n",
    "determine_season(user_month)"
   ]
  },
  {
   "cell_type": "code",
   "execution_count": 35,
   "id": "73aa4545-9f29-4d50-879e-3d464e3bb1ff",
   "metadata": {},
   "outputs": [
    {
     "name": "stdin",
     "output_type": "stream",
     "text": [
      "Enter the year:  2006\n",
      "Enter the month (1-12):  3\n"
     ]
    },
    {
     "name": "stdout",
     "output_type": "stream",
     "text": [
      "Common year\n",
      "31 days\n"
     ]
    }
   ],
   "source": [
    "#30. Implement a program to determine the type of a year (leap or common) and month (30 or 31 days) using\n",
    "#    elif statements.\n",
    "def determine_year_month_type(year, month):\n",
    "    if (year % 4 == 0 and year % 100 != 0) or (year % 400 == 0):\n",
    "        print(\"Leap year\")\n",
    "    else:\n",
    "        print(\"Common year\")\n",
    "\n",
    "    if month in [4, 6, 9, 11]:\n",
    "        print(\"30 days\")\n",
    "    elif month == 2:\n",
    "        if (year % 4 == 0 and year % 100 != 0) or (year % 400 == 0):\n",
    "            print(\"29 days (Leap year)\")\n",
    "        else:\n",
    "            print(\"28 days (Common year)\")\n",
    "    else:\n",
    "        print(\"31 days\")\n",
    "\n",
    "user_year = int(input(\"Enter the year: \"))\n",
    "user_month = int(input(\"Enter the month (1-12): \"))\n",
    "determine_year_month_type(user_year, user_month)"
   ]
  },
  {
   "cell_type": "code",
   "execution_count": 36,
   "id": "9d5b55d9-2a07-42ae-aa71-102fc50213a4",
   "metadata": {},
   "outputs": [
    {
     "name": "stdin",
     "output_type": "stream",
     "text": [
      "Enter a number:  0\n"
     ]
    },
    {
     "name": "stdout",
     "output_type": "stream",
     "text": [
      "Zero\n"
     ]
    }
   ],
   "source": [
    "# Basic level: \n",
    "\n",
    "\n",
    "#1. Write a Python program that checks if a given number is positive, negative, or zero.\n",
    "def check_positive_negative_zero(number):\n",
    "    if number > 0:\n",
    "        print(\"Positive\")\n",
    "    elif number < 0:\n",
    "        print(\"Negative\")\n",
    "    else:\n",
    "        print(\"Zero\")\n",
    "\n",
    "num = float(input(\"Enter a number: \"))\n",
    "check_positive_negative_zero(num)"
   ]
  },
  {
   "cell_type": "code",
   "execution_count": 37,
   "id": "2e0fc2ba-e078-4adb-9f84-072d19bc7fa6",
   "metadata": {},
   "outputs": [
    {
     "name": "stdin",
     "output_type": "stream",
     "text": [
      "Enter your age:  45\n"
     ]
    },
    {
     "name": "stdout",
     "output_type": "stream",
     "text": [
      "Eligible to vote\n"
     ]
    }
   ],
   "source": [
    "#2. Create a program to determine if a person is eligible to vote based on their age.\n",
    "def check_voting_eligibility(age):\n",
    "    if age >= 18:\n",
    "        print(\"Eligible to vote\")\n",
    "    else:\n",
    "        print(\"Not eligible to vote\")\n",
    "\n",
    "age = int(input(\"Enter your age: \"))\n",
    "check_voting_eligibility(age)"
   ]
  },
  {
   "cell_type": "code",
   "execution_count": 38,
   "id": "5a7b5d02-762b-441b-95cc-abf3ee0ad357",
   "metadata": {},
   "outputs": [
    {
     "name": "stdin",
     "output_type": "stream",
     "text": [
      "Enter the first number:  45\n",
      "Enter the second number:  6\n"
     ]
    },
    {
     "name": "stdout",
     "output_type": "stream",
     "text": [
      "Maximum: 45.0\n"
     ]
    }
   ],
   "source": [
    "#3. Write a program to find the maximum of two given numbers using conditional statements.\n",
    "def find_maximum(num1, num2):\n",
    "    maximum = num1 if num1 > num2 else num2\n",
    "    print(\"Maximum:\", maximum)\n",
    "\n",
    "a = float(input(\"Enter the first number: \"))\n",
    "b = float(input(\"Enter the second number: \"))\n",
    "find_maximum(a, b)"
   ]
  },
  {
   "cell_type": "code",
   "execution_count": 39,
   "id": "94bcdf8c-2b22-44f2-8d21-8718e356551a",
   "metadata": {},
   "outputs": [
    {
     "name": "stdin",
     "output_type": "stream",
     "text": [
      "Enter the student's score:  98\n"
     ]
    },
    {
     "name": "stdout",
     "output_type": "stream",
     "text": [
      "Grade: A\n"
     ]
    }
   ],
   "source": [
    "#4. Develop a program that calculates the grade of a student based on their exam score.\n",
    "def calculate_grade(score):\n",
    "    if 90 <= score <= 100:\n",
    "        print(\"Grade: A\")\n",
    "    elif 80 <= score < 90:\n",
    "        print(\"Grade: B\")\n",
    "    elif 70 <= score < 80:\n",
    "        print(\"Grade: C\")\n",
    "    elif 60 <= score < 70:\n",
    "        print(\"Grade: D\")\n",
    "    else:\n",
    "        print(\"Grade: F\")\n",
    "\n",
    "student_score = float(input(\"Enter the student's score: \"))\n",
    "calculate_grade(student_score)"
   ]
  },
  {
   "cell_type": "code",
   "execution_count": 40,
   "id": "a5030852-ac86-44d2-82d1-4080d81fd4db",
   "metadata": {},
   "outputs": [
    {
     "name": "stdin",
     "output_type": "stream",
     "text": [
      "Enter a year:  1991\n"
     ]
    },
    {
     "name": "stdout",
     "output_type": "stream",
     "text": [
      "Not a leap year\n"
     ]
    }
   ],
   "source": [
    "#5. Create a program that checks if a year is a leap year or not.\n",
    "def is_leap_year(year):\n",
    "    if (year % 4 == 0 and year % 100 != 0) or (year % 400 == 0):\n",
    "        print(\"Leap year\")\n",
    "    else:\n",
    "        print(\"Not a leap year\")\n",
    "\n",
    "# Example usage:\n",
    "yr = int(input(\"Enter a year: \"))\n",
    "is_leap_year(yr)"
   ]
  },
  {
   "cell_type": "code",
   "execution_count": 41,
   "id": "af342755-1c4d-419a-b547-9992bff30b8b",
   "metadata": {},
   "outputs": [
    {
     "name": "stdin",
     "output_type": "stream",
     "text": [
      "Enter the length of the first side:  54\n",
      "Enter the length of the second side:  54\n",
      "Enter the length of the third side:  65\n"
     ]
    },
    {
     "name": "stdout",
     "output_type": "stream",
     "text": [
      "Isosceles triangle\n"
     ]
    }
   ],
   "source": [
    "#6. Write a program to classify a triangle based on its sides' lengths.\n",
    "def classify_triangle(s1, s2, s3):\n",
    "    if s1 == s2 == s3:\n",
    "        print(\"Equilateral triangle\")\n",
    "    elif s1 == s2 or s1 == s3 or s2 == s3:\n",
    "        print(\"Isosceles triangle\")\n",
    "    else:\n",
    "        print(\"Scalene triangle\")\n",
    "\n",
    "side1 = float(input(\"Enter the length of the first side: \"))\n",
    "side2 = float(input(\"Enter the length of the second side: \"))\n",
    "side3 = float(input(\"Enter the length of the third side: \"))\n",
    "classify_triangle(side1, side2, side3)"
   ]
  },
  {
   "cell_type": "code",
   "execution_count": 42,
   "id": "99c13810-7034-43e1-82fe-1ace2b6a653b",
   "metadata": {},
   "outputs": [
    {
     "name": "stdin",
     "output_type": "stream",
     "text": [
      "Enter the first number:  456\n",
      "Enter the second number:  5664\n",
      "Enter the third number:  564\n"
     ]
    },
    {
     "name": "stdout",
     "output_type": "stream",
     "text": [
      "Largest: 5664.0\n"
     ]
    }
   ],
   "source": [
    "#7. Build a program that determines the largest of three given numbers.\n",
    "def find_largest(num1, num2, num3):\n",
    "    maximum = num1\n",
    "    if num2 > maximum:\n",
    "        maximum = num2\n",
    "    if num3 > maximum:\n",
    "        maximum = num3\n",
    "    print(\"Largest:\", maximum)\n",
    "\n",
    "x = float(input(\"Enter the first number: \"))\n",
    "y = float(input(\"Enter the second number: \"))\n",
    "z = float(input(\"Enter the third number: \"))\n",
    "find_largest(x, y, z)"
   ]
  },
  {
   "cell_type": "code",
   "execution_count": 43,
   "id": "7ce90c23-093e-4fab-be80-50ec511e49e7",
   "metadata": {},
   "outputs": [
    {
     "name": "stdin",
     "output_type": "stream",
     "text": [
      "Enter a character:  fre\n"
     ]
    },
    {
     "name": "stdout",
     "output_type": "stream",
     "text": [
      "Consonant\n"
     ]
    }
   ],
   "source": [
    "#8. Develop a program that checks whether a character is a vowel or a consonant.\n",
    "def check_vowel_consonant(char):\n",
    "    if char.lower() in 'aeiou':\n",
    "        print(\"Vowel\")\n",
    "    else:\n",
    "        print(\"Consonant\")\n",
    "\n",
    "character = input(\"Enter a character: \")\n",
    "check_vowel_consonant(character)"
   ]
  },
  {
   "cell_type": "code",
   "execution_count": 44,
   "id": "3537c1ef-d9d6-41ca-99fa-3e0fcb167b5b",
   "metadata": {},
   "outputs": [
    {
     "name": "stdin",
     "output_type": "stream",
     "text": [
      "Enter the total amount in the shopping cart:  50\n"
     ]
    },
    {
     "name": "stdout",
     "output_type": "stream",
     "text": [
      "Total Cost: 47.5\n"
     ]
    }
   ],
   "source": [
    "#9. Create a program to calculate the total cost of a shopping cart based on discounts.\n",
    "def calculate_total_cost(cart_amount):\n",
    "    if cart_amount >= 100:\n",
    "        discount = 0.1\n",
    "    elif cart_amount >= 50:\n",
    "        discount = 0.05\n",
    "    else:\n",
    "        discount = 0.0\n",
    "\n",
    "    discounted_amount = cart_amount - (cart_amount * discount)\n",
    "    print(\"Total Cost:\", discounted_amount)\n",
    "\n",
    "cart_total = float(input(\"Enter the total amount in the shopping cart: \"))\n",
    "calculate_total_cost(cart_total)"
   ]
  },
  {
   "cell_type": "code",
   "execution_count": 45,
   "id": "21e6d76c-4fc1-4532-9759-63f0152a8d32",
   "metadata": {},
   "outputs": [
    {
     "name": "stdin",
     "output_type": "stream",
     "text": [
      "Enter a number:  45\n"
     ]
    },
    {
     "name": "stdout",
     "output_type": "stream",
     "text": [
      "Odd\n"
     ]
    }
   ],
   "source": [
    "#10. Write a program that checks if a given number is even or odd.\n",
    "def check_even_odd(number):\n",
    "    if number % 2 == 0:\n",
    "        print(\"Even\")\n",
    "    else:\n",
    "        print(\"Odd\")\n",
    "\n",
    "num = int(input(\"Enter a number: \"))\n",
    "check_even_odd(num)"
   ]
  },
  {
   "cell_type": "code",
   "execution_count": 46,
   "id": "5b31753e-d1b1-4568-89b2-46b78222822d",
   "metadata": {},
   "outputs": [],
   "source": [
    "# Intermediate Level:"
   ]
  },
  {
   "cell_type": "code",
   "execution_count": 47,
   "id": "50b1beae-0431-4a9f-a68d-d177a0700f02",
   "metadata": {},
   "outputs": [
    {
     "name": "stdout",
     "output_type": "stream",
     "text": [
      "Roots are: 2.0 1.0\n"
     ]
    }
   ],
   "source": [
    "#11. Write a program that calculates the roots of a quadratic equation .\n",
    "import math\n",
    "\n",
    "def quadratic_roots(a, b, c):\n",
    "    discriminant = b**2 - 4*a*c\n",
    "    if discriminant > 0:\n",
    "        root1 = (-b + math.sqrt(discriminant)) / (2*a)\n",
    "        root2 = (-b - math.sqrt(discriminant)) / (2*a)\n",
    "        return root1, root2\n",
    "    elif discriminant == 0:\n",
    "        root = -b / (2*a)\n",
    "        return root, root\n",
    "    else:\n",
    "        real_part = -b / (2*a)\n",
    "        imaginary_part = math.sqrt(abs(discriminant)) / (2*a)\n",
    "        root1 = complex(real_part, imaginary_part)\n",
    "        root2 = complex(real_part, -imaginary_part)\n",
    "        return root1, root2\n",
    "\n",
    "# Example usage\n",
    "a, b, c = 1, -3, 2\n",
    "root1, root2 = quadratic_roots(a, b, c)\n",
    "print(\"Roots are:\", root1, root2)"
   ]
  },
  {
   "cell_type": "code",
   "execution_count": 48,
   "id": "5c61d45a-6d45-4989-81af-8362b1cec0ae",
   "metadata": {},
   "outputs": [
    {
     "name": "stdout",
     "output_type": "stream",
     "text": [
      "Day of the week: Tuesday\n"
     ]
    }
   ],
   "source": [
    "#12. Create a program that determines the day of the week based on the day number (1-7).\n",
    "def day_of_the_week(day_number):\n",
    "    days = [\"Sunday\", \"Monday\", \"Tuesday\", \"Wednesday\", \"Thursday\", \"Friday\", \"Saturday\"]\n",
    "    if day_number >= 1 and day_number <= 7:\n",
    "        return days[day_number - 1]\n",
    "    else:\n",
    "        return \"Invalid day number. Please enter a number between 1 and 7.\"\n",
    "\n",
    "# Example usage\n",
    "day_number = 3\n",
    "print(\"Day of the week:\", day_of_the_week(day_number))"
   ]
  },
  {
   "cell_type": "code",
   "execution_count": 49,
   "id": "e1d0e940-55c4-4ff9-8dfb-d96682dc21ed",
   "metadata": {},
   "outputs": [
    {
     "name": "stdout",
     "output_type": "stream",
     "text": [
      "Factorial of 5 is 120\n"
     ]
    }
   ],
   "source": [
    "#13. Develop a program that calculates the factorial of a given number using recursion.\n",
    "def factorial(n):\n",
    "    if n == 0:\n",
    "        return 1\n",
    "    else:\n",
    "        return n * factorial(n - 1)\n",
    "\n",
    "# Example usage\n",
    "num = 5\n",
    "print(\"Factorial of\", num, \"is\", factorial(num))"
   ]
  },
  {
   "cell_type": "code",
   "execution_count": 50,
   "id": "c8253b76-dfee-4be4-92b4-a9ecefe2687c",
   "metadata": {},
   "outputs": [
    {
     "name": "stdout",
     "output_type": "stream",
     "text": [
      "Largest number is: 10\n"
     ]
    }
   ],
   "source": [
    "#14. Write a program to find the largest among three numbers without using the `max()` function.\n",
    "def find_largest(a, b, c):\n",
    "    if a >= b and a >= c:\n",
    "        return a\n",
    "    elif b >= a and b >= c:\n",
    "        return b\n",
    "    else:\n",
    "        return c\n",
    "\n",
    "# Example usage\n",
    "a, b, c = 10, 5, 8\n",
    "print(\"Largest number is:\", find_largest(a, b, c))"
   ]
  },
  {
   "cell_type": "code",
   "execution_count": 51,
   "id": "67bd8109-b580-4bbd-9b13-753094a94efb",
   "metadata": {},
   "outputs": [
    {
     "name": "stdout",
     "output_type": "stream",
     "text": [
      "1. Check Balance\n",
      "2. Deposit\n",
      "3. Withdraw\n",
      "4. Exit\n"
     ]
    },
    {
     "name": "stdin",
     "output_type": "stream",
     "text": [
      "Enter your choice:  1\n"
     ]
    },
    {
     "name": "stdout",
     "output_type": "stream",
     "text": [
      "Your balance is: 1000\n",
      "1. Check Balance\n",
      "2. Deposit\n",
      "3. Withdraw\n",
      "4. Exit\n"
     ]
    },
    {
     "name": "stdin",
     "output_type": "stream",
     "text": [
      "Enter your choice:  4\n"
     ]
    },
    {
     "name": "stdout",
     "output_type": "stream",
     "text": [
      "Thank you for using the ATM.\n"
     ]
    }
   ],
   "source": [
    "#15. Create a program that simulates a basic ATM transaction menu.\n",
    "def atm_simulation():\n",
    "    balance = 1000\n",
    "    while True:\n",
    "        print(\"1. Check Balance\")\n",
    "        print(\"2. Deposit\")\n",
    "        print(\"3. Withdraw\")\n",
    "        print(\"4. Exit\")\n",
    "        choice = int(input(\"Enter your choice: \"))\n",
    "        if choice == 1:\n",
    "            print(\"Your balance is:\", balance)\n",
    "        elif choice == 2:\n",
    "            amount = float(input(\"Enter amount to deposit: \"))\n",
    "            balance += amount\n",
    "            print(\"Deposit successful. Your new balance is:\", balance)\n",
    "        elif choice == 3:\n",
    "            amount = float(input(\"Enter amount to withdraw: \"))\n",
    "            if amount <= balance:\n",
    "                balance -= amount\n",
    "                print(\"Withdrawal successful. Your new balance is:\", balance)\n",
    "            else:\n",
    "                print(\"Insufficient balance.\")\n",
    "        elif choice == 4:\n",
    "            print(\"Thank you for using the ATM.\")\n",
    "            break\n",
    "        else:\n",
    "            print(\"Invalid choice. Please try again.\")\n",
    "\n",
    "# Example usage\n",
    "atm_simulation()"
   ]
  },
  {
   "cell_type": "code",
   "execution_count": 52,
   "id": "4a875314-2142-471c-bf86-a2890464a1bd",
   "metadata": {},
   "outputs": [
    {
     "name": "stdout",
     "output_type": "stream",
     "text": [
      "level is a palindrome.\n"
     ]
    }
   ],
   "source": [
    "#16. Build a program that checks if a given string is a palindrome or not.\n",
    "def is_palindrome(s):\n",
    "    s = s.lower()\n",
    "    return s == s[::-1]\n",
    "\n",
    "# Example usage\n",
    "word = \"level\"\n",
    "if is_palindrome(word):\n",
    "    print(word, \"is a palindrome.\")\n",
    "else:\n",
    "    print(word, \"is not a palindrome.\")"
   ]
  },
  {
   "cell_type": "code",
   "execution_count": 53,
   "id": "120ed84d-7e56-401c-a73a-a4bf9686f625",
   "metadata": {},
   "outputs": [
    {
     "name": "stdout",
     "output_type": "stream",
     "text": [
      "Average excluding min and max values: 15.0\n"
     ]
    }
   ],
   "source": [
    "#17. Write a program that calculates the average of a list of numbers, excluding the smallest and largest values.\n",
    "def average_without_extremes(nums):\n",
    "    if len(nums) < 3:\n",
    "        return \"List should have at least 3 elements.\"\n",
    "    nums.sort()\n",
    "    return sum(nums[1:-1]) / (len(nums) - 2)\n",
    "\n",
    "# Example usage\n",
    "numbers = [5, 10, 15, 20, 25]\n",
    "print(\"Average excluding min and max values:\", average_without_extremes(numbers))"
   ]
  },
  {
   "cell_type": "code",
   "execution_count": 54,
   "id": "a8647f27-768c-4a29-b17e-b8780f33b489",
   "metadata": {},
   "outputs": [
    {
     "name": "stdout",
     "output_type": "stream",
     "text": [
      "Fahrenheit: 98.6\n"
     ]
    }
   ],
   "source": [
    "#18. Develop a program that converts a given temperature from Celsius to Fahrenheit.\n",
    "def celsius_to_fahrenheit(celsius):\n",
    "    return celsius * 9/5 + 32\n",
    "\n",
    "# Example usage\n",
    "celsius_temp = 37\n",
    "print(\"Fahrenheit:\", celsius_to_fahrenheit(celsius_temp))"
   ]
  },
  {
   "cell_type": "code",
   "execution_count": 55,
   "id": "9bdc358a-aeae-4450-af97-4724c4f5ec6b",
   "metadata": {},
   "outputs": [
    {
     "name": "stdout",
     "output_type": "stream",
     "text": [
      "Options:\n",
      "1. Addition\n",
      "2. Subtraction\n",
      "3. Multiplication\n",
      "4. Division\n",
      "5. Exit\n"
     ]
    },
    {
     "name": "stdin",
     "output_type": "stream",
     "text": [
      "Enter choice:  1\n",
      "Enter first number:  20\n",
      "Enter second number:  30\n"
     ]
    },
    {
     "name": "stdout",
     "output_type": "stream",
     "text": [
      "Result: 50.0\n",
      "Options:\n",
      "1. Addition\n",
      "2. Subtraction\n",
      "3. Multiplication\n",
      "4. Division\n",
      "5. Exit\n"
     ]
    },
    {
     "name": "stdin",
     "output_type": "stream",
     "text": [
      "Enter choice:  5\n"
     ]
    }
   ],
   "source": [
    "#19. Create a program that simulates a basic calculator for addition, subtraction, multiplication, and division.\n",
    "def basic_calculator():\n",
    "    while True:\n",
    "        print(\"Options:\")\n",
    "        print(\"1. Addition\")\n",
    "        print(\"2. Subtraction\")\n",
    "        print(\"3. Multiplication\")\n",
    "        print(\"4. Division\")\n",
    "        print(\"5. Exit\")\n",
    "        choice = input(\"Enter choice: \")\n",
    "\n",
    "        if choice in ('1', '2', '3', '4'):\n",
    "            num1 = float(input(\"Enter first number: \"))\n",
    "            num2 = float(input(\"Enter second number: \"))\n",
    "\n",
    "            if choice == '1':\n",
    "                print(\"Result:\", num1 + num2)\n",
    "            elif choice == '2':\n",
    "                print(\"Result:\", num1 - num2)\n",
    "            elif choice == '3':\n",
    "                print(\"Result:\", num1 * num2)\n",
    "            elif choice == '4':\n",
    "                if num2 != 0:\n",
    "                    print(\"Result:\", num1 / num2)\n",
    "                else:\n",
    "                    print(\"Cannot divide by zero\")\n",
    "        elif choice == '5':\n",
    "            break\n",
    "        else:\n",
    "            print(\"Invalid Input\")\n",
    "\n",
    "# Example usage\n",
    "basic_calculator()"
   ]
  },
  {
   "cell_type": "code",
   "execution_count": 56,
   "id": "3fab3408-d2ef-4e15-9a97-518837c95062",
   "metadata": {},
   "outputs": [
    {
     "data": {
      "text/plain": [
       "(10,)"
      ]
     },
     "execution_count": 56,
     "metadata": {},
     "output_type": "execute_result"
    }
   ],
   "source": [
    "#20. Write a program that determines the roots of a cubic equation using the Cardano formula.\n",
    "import math\n",
    "\n",
    "def cubic_roots(a, b, c, d):\n",
    "    p = (3*a*c - b**2) / (3*a**2)\n",
    "    q = (2*b**3 - 9*a*b*c + 27*a**2*d) / (27*a**3)\n",
    "    delta = (q/2)**2 + (p/3)**3\n",
    "    if delta > 0:\n",
    "        u = (-q/2 + math.sqrt(delta))**(1/3)\n",
    "        v = (-q/2 - math.sqrt(delta))**(1/3)\n",
    "        root1 = u + v - b/(3*a)\n",
    "        real_part = -0.5*(u+v) - b/(3*a)\n",
    "        imaginary_part = 0.5*math.sqrt(3)*(u-v)\n",
    "        root2 = complex(real_part, imaginary_part)\n",
    "        return root1, root2\n",
    "    elif delta == 0:\n",
    "        u = (-q/2)**(1/3)\n",
    "        v = (-q/2)**(1/3)\n",
    "        root1 = 2*u - b/(3*a)\n",
    "        root2 = -u - b/(3*a)\n",
    "        return root1, root2\n",
    "    else:\n",
    "        u = (-q/2 + math.sqrt(-delta))**(1/3)\n",
    "        v = (-q/2 - math.sqrt(-delta))**(1/3)\n",
    "        root1 = u + v - b/(3*a)\n",
    "        return root1,\n",
    "\n",
    "# Example usage\n",
    "a,"
   ]
  },
  {
   "cell_type": "code",
   "execution_count": 57,
   "id": "61d16c82-b6d9-48b4-b0d2-eb6ed956aac4",
   "metadata": {},
   "outputs": [],
   "source": [
    "#Advance Level:"
   ]
  },
  {
   "cell_type": "code",
   "execution_count": 58,
   "id": "7bb38830-80ae-4bc2-aaa1-b61c5c10e3ca",
   "metadata": {},
   "outputs": [
    {
     "name": "stdin",
     "output_type": "stream",
     "text": [
      "Enter your income:  30000\n"
     ]
    },
    {
     "name": "stdout",
     "output_type": "stream",
     "text": [
      "Income tax: 4000.0\n"
     ]
    }
   ],
   "source": [
    "#21. Create a program that calculates the income tax based on the user's income and tax brackets.\n",
    "def calculate_income_tax(income):\n",
    "    if income <= 10000:\n",
    "        tax = 0\n",
    "    elif income <= 40000:\n",
    "        tax = (income - 10000) * 0.2\n",
    "    else:\n",
    "        tax = 6000 + (income - 40000) * 0.3\n",
    "    return tax\n",
    "\n",
    "# Example usage\n",
    "income = float(input(\"Enter your income: \"))\n",
    "tax = calculate_income_tax(income)\n",
    "print(\"Income tax:\", tax)"
   ]
  },
  {
   "cell_type": "code",
   "execution_count": 59,
   "id": "aec485b6-f60f-4d25-943c-ad7cef28f5e5",
   "metadata": {},
   "outputs": [
    {
     "name": "stdin",
     "output_type": "stream",
     "text": [
      "Enter your choice (rock, paper, scissors):  rock\n"
     ]
    },
    {
     "name": "stdout",
     "output_type": "stream",
     "text": [
      "You win!\n"
     ]
    }
   ],
   "source": [
    "#22. Write a program that simulates a rock-paper-scissors game against the computer.\n",
    "import random\n",
    "\n",
    "def play_game(player_choice):\n",
    "    choices = ['rock', 'paper', 'scissors']\n",
    "    computer_choice = random.choice(choices)\n",
    "    if player_choice == computer_choice:\n",
    "        return \"It's a tie!\"\n",
    "    elif (player_choice == 'rock' and computer_choice == 'scissors') or \\\n",
    "         (player_choice == 'paper' and computer_choice == 'rock') or \\\n",
    "         (player_choice == 'scissors' and computer_choice == 'paper'):\n",
    "        return \"You win!\"\n",
    "    else:\n",
    "        return \"Computer wins!\"\n",
    "\n",
    "# Example usage\n",
    "player_choice = input(\"Enter your choice (rock, paper, scissors): \")\n",
    "result = play_game(player_choice)\n",
    "print(result)"
   ]
  },
  {
   "cell_type": "code",
   "execution_count": 63,
   "id": "9402bb26-e120-4c57-a2a1-e7cd7520c667",
   "metadata": {},
   "outputs": [
    {
     "name": "stdin",
     "output_type": "stream",
     "text": [
      "Enter password length:  4\n",
      "Enter password complexity (low, medium, high):  low\n"
     ]
    },
    {
     "name": "stdout",
     "output_type": "stream",
     "text": [
      "Generated password: yjpo\n"
     ]
    }
   ],
   "source": [
    "#23. Develop a program that generates a random password based on user preferences (length, complexity).\n",
    "import random\n",
    "import string\n",
    "\n",
    "def generate_password(length, complexity):\n",
    "    if complexity == 'low':\n",
    "        characters = string.ascii_lowercase\n",
    "    elif complexity == 'medium':\n",
    "        characters = string.ascii_letters + string.digits\n",
    "    else:\n",
    "        characters = string.ascii_letters + string.digits + string.punctuation\n",
    "    password = ''.join(random.choice(characters) for _ in range(length))\n",
    "    return password\n",
    "\n",
    "# Example usage\n",
    "length = int(input(\"Enter password length: \"))\n",
    "complexity = input(\"Enter password complexity (low, medium, high): \")\n",
    "password = generate_password(length, complexity)\n",
    "print(\"Generated password:\", password)"
   ]
  },
  {
   "cell_type": "code",
   "execution_count": 64,
   "id": "cdd80b15-4814-4d45-9a69-d801a0989df3",
   "metadata": {},
   "outputs": [
    {
     "name": "stdout",
     "output_type": "stream",
     "text": [
      "You find yourself in a dark forest.\n"
     ]
    },
    {
     "name": "stdin",
     "output_type": "stream",
     "text": [
      "Do you go 'left' or 'right'?  left\n"
     ]
    },
    {
     "name": "stdout",
     "output_type": "stream",
     "text": [
      "You encounter a bear and run back to safety.\n"
     ]
    }
   ],
   "source": [
    "#24. Create a program that implements a simple text-based adventure game with branching scenarios.\n",
    "def adventure_game():\n",
    "    print(\"You find yourself in a dark forest.\")\n",
    "    while True:\n",
    "        choice = input(\"Do you go 'left' or 'right'? \")\n",
    "        if choice.lower() == 'left':\n",
    "            print(\"You encounter a bear and run back to safety.\")\n",
    "            break\n",
    "        elif choice.lower() == 'right':\n",
    "            print(\"You find a treasure chest full of gold. Congratulations!\")\n",
    "            break\n",
    "        else:\n",
    "            print(\"Invalid choice. Please try again.\")\n",
    "\n",
    "# Example usage\n",
    "adventure_game()"
   ]
  },
  {
   "cell_type": "code",
   "execution_count": 66,
   "id": "69c70f54-b24a-4766-86c6-5769753c992c",
   "metadata": {},
   "outputs": [
    {
     "name": "stdin",
     "output_type": "stream",
     "text": [
      "Enter coefficient a:  1\n",
      "Enter coefficient b:  2\n"
     ]
    },
    {
     "name": "stdout",
     "output_type": "stream",
     "text": [
      "Solution for x: -2.0\n"
     ]
    }
   ],
   "source": [
    "#25. Build a program that solves a linear equation for x, considering different cases.\n",
    "def solve_linear_equation(a, b):\n",
    "    if a == 0 and b == 0:\n",
    "        return \"Infinite solutions\"\n",
    "    elif a == 0 and b != 0:\n",
    "        return \"No solution\"\n",
    "    else:\n",
    "        return -b / a\n",
    "\n",
    "# Example usage\n",
    "a = float(input(\"Enter coefficient a: \"))\n",
    "b = float(input(\"Enter coefficient b: \"))\n",
    "solution = solve_linear_equation(a, b)\n",
    "print(\"Solution for x:\", solution)"
   ]
  },
  {
   "cell_type": "code",
   "execution_count": 67,
   "id": "ec90caf1-09c6-48d9-9a23-45f553f43fea",
   "metadata": {},
   "outputs": [
    {
     "name": "stdin",
     "output_type": "stream",
     "text": [
      "What is the capital of France?  paris\n",
      "Which planet is known as the Red Planet?  mars\n",
      "What is the largest mammal?  blue whale\n"
     ]
    },
    {
     "name": "stdout",
     "output_type": "stream",
     "text": [
      "Your score: 3\n"
     ]
    }
   ],
   "source": [
    "#26. Write a program that simulates a basic quiz game with multiple-choice questions and scoring.\n",
    "def quiz_game():\n",
    "    questions = {\n",
    "        \"What is the capital of France?\": \"Paris\",\n",
    "        \"Which planet is known as the Red Planet?\": \"Mars\",\n",
    "        \"What is the largest mammal?\": \"Blue whale\"\n",
    "    }\n",
    "    score = 0\n",
    "    for question, answer in questions.items():\n",
    "        user_answer = input(question + \" \")\n",
    "        if user_answer.lower() == answer.lower():\n",
    "            score += 1\n",
    "    print(\"Your score:\", score)\n",
    "\n",
    "# Example usage\n",
    "quiz_game()"
   ]
  },
  {
   "cell_type": "code",
   "execution_count": 68,
   "id": "501aca82-531b-4e6d-87b0-f0ce2cbd4a3a",
   "metadata": {},
   "outputs": [
    {
     "name": "stdin",
     "output_type": "stream",
     "text": [
      "Enter a year:  1993\n"
     ]
    },
    {
     "name": "stdout",
     "output_type": "stream",
     "text": [
      "1993 is a prime number.\n"
     ]
    }
   ],
   "source": [
    "#27. Develop a program that determines whether a given year is a prime number or not.\n",
    "def is_prime(year):\n",
    "    if year <= 1:\n",
    "        return False\n",
    "    for i in range(2, int(year ** 0.5) + 1):\n",
    "        if year % i == 0:\n",
    "            return False\n",
    "    return True\n",
    "\n",
    "# Example usage\n",
    "year = int(input(\"Enter a year: \"))\n",
    "if is_prime(year):\n",
    "    print(year, \"is a prime number.\")\n",
    "else:\n",
    "    print(year, \"is not a prime number.\")"
   ]
  },
  {
   "cell_type": "code",
   "execution_count": 69,
   "id": "c1b5a3cc-0b1d-49ea-97b4-f5a59763d36b",
   "metadata": {},
   "outputs": [
    {
     "name": "stdout",
     "output_type": "stream",
     "text": [
      "Sorted numbers: (5, 8, 10)\n"
     ]
    }
   ],
   "source": [
    "#28. Create a program that sorts three numbers in ascending order using conditional statements.\n",
    "def sort_numbers(a, b, c):\n",
    "    if a <= b and a <= c:\n",
    "        smallest = a\n",
    "        if b <= c:\n",
    "            middle = b\n",
    "            largest = c\n",
    "        else:\n",
    "            middle = c\n",
    "            largest = b\n",
    "    elif b <= a and b <= c:\n",
    "        smallest = b\n",
    "        if a <= c:\n",
    "            middle = a\n",
    "            largest = c\n",
    "        else:\n",
    "            middle = c\n",
    "            largest = a\n",
    "    else:\n",
    "        smallest = c\n",
    "        if a <= b:\n",
    "            middle = a\n",
    "            largest = b\n",
    "        else:\n",
    "            middle = b\n",
    "            largest = a\n",
    "    return smallest, middle, largest\n",
    "\n",
    "# Example usage\n",
    "a, b, c = 10, 5, 8\n",
    "sorted_numbers = sort_numbers(a, b, c)\n",
    "print(\"Sorted numbers:\", sorted_numbers)"
   ]
  },
  {
   "cell_type": "code",
   "execution_count": 70,
   "id": "c1481d7b-eef5-4230-a7c2-98d3d22139b6",
   "metadata": {},
   "outputs": [
    {
     "name": "stdout",
     "output_type": "stream",
     "text": [
      "Roots of the quartic equation: [0.3819659994757026, 0.3819660068668738, 2.618033962025899, 2.6180340140709553]\n"
     ]
    }
   ],
   "source": [
    "#29. Build a program that determines the roots of a quartic equation using numerical methods.\n",
    "import numpy as np\n",
    "from scipy.optimize import fsolve\n",
    "\n",
    "def quartic_equation_solver(a, b, c, d, e):\n",
    "    def equation(x):\n",
    "        return a*x**4 + b*x**3 + c*x**2 + d*x + e\n",
    "\n",
    "    # Initial guess for the roots\n",
    "    initial_guesses = [-10, -5, 5, 10]\n",
    "    \n",
    "    # Use fsolve to find the roots\n",
    "    roots = []\n",
    "    for guess in initial_guesses:\n",
    "        root = fsolve(equation, guess)[0]\n",
    "        roots.append(root)\n",
    "\n",
    "    return roots\n",
    "\n",
    "# Example usage\n",
    "a, b, c, d, e = 1, -6, 11, -6, 1\n",
    "roots = quartic_equation_solver(a, b, c, d, e)\n",
    "print(\"Roots of the quartic equation:\", roots)"
   ]
  },
  {
   "cell_type": "code",
   "execution_count": 71,
   "id": "fd6415dc-54a2-420f-b029-696861792009",
   "metadata": {},
   "outputs": [
    {
     "name": "stdin",
     "output_type": "stream",
     "text": [
      "Enter your weight in kg:  45\n",
      "Enter your height in meters:  8\n"
     ]
    },
    {
     "name": "stdout",
     "output_type": "stream",
     "text": [
      "Your BMI is: 0.703125\n",
      "You are Underweight\n"
     ]
    }
   ],
   "source": [
    "#30. Write a program that calculates the BMI (Body Mass Index) and provides health recommendations based\n",
    "#on the user's input.\n",
    "def calculate_bmi(weight, height):\n",
    "    return weight / (height ** 2)\n",
    "\n",
    "def bmi_category(bmi):\n",
    "    if bmi < 18.5:\n",
    "        return \"Underweight\"\n",
    "    elif bmi < 25:\n",
    "        return \"Normal weight\"\n",
    "    elif bmi < 30:\n",
    "        return \"Overweight\"\n",
    "    else:\n",
    "        return \"Obese\"\n",
    "\n",
    "# Example usage\n",
    "weight = float(input(\"Enter your weight in kg: \"))\n",
    "height = float(input(\"Enter your height in meters: \"))\n",
    "bmi = calculate_bmi(weight, height)\n",
    "print(\"Your BMI is:\", bmi)\n",
    "print(\"You are\", bmi_category(bmi))"
   ]
  },
  {
   "cell_type": "code",
   "execution_count": 72,
   "id": "2798f216-ec14-4d13-84aa-c970af96c6ae",
   "metadata": {},
   "outputs": [],
   "source": [
    "#Challenge Level"
   ]
  },
  {
   "cell_type": "code",
   "execution_count": 73,
   "id": "4576dc06-da33-4b06-a966-3f3b361aff56",
   "metadata": {},
   "outputs": [
    {
     "name": "stdin",
     "output_type": "stream",
     "text": [
      "Enter your password:  fghW344\n"
     ]
    },
    {
     "name": "stdout",
     "output_type": "stream",
     "text": [
      "Password must be at least 8 characters long.\n"
     ]
    }
   ],
   "source": [
    "#31.Create a program that validates a password based on complexity rules (length, characters, etc.).\n",
    "def validate_password(password):\n",
    "    # Define complexity rules\n",
    "    min_length = 8\n",
    "    has_uppercase = any(char.isupper() for char in password)\n",
    "    has_lowercase = any(char.islower() for char in password)\n",
    "    has_digit = any(char.isdigit() for char in password)\n",
    "    has_special = any(char in '!@#$%^&*()-_+=[]{}|\\\\;:\\'\",.<>/?' for char in password)\n",
    "    \n",
    "    # Check if password meets complexity rules\n",
    "    if len(password) < min_length:\n",
    "        return \"Password must be at least {} characters long.\".format(min_length)\n",
    "    elif not has_uppercase:\n",
    "        return \"Password must contain at least one uppercase letter.\"\n",
    "    elif not has_lowercase:\n",
    "        return \"Password must contain at least one lowercase letter.\"\n",
    "    elif not has_digit:\n",
    "        return \"Password must contain at least one digit.\"\n",
    "    elif not has_special:\n",
    "        return \"Password must contain at least one special character.\"\n",
    "    else:\n",
    "        return \"Password is valid.\"\n",
    "\n",
    "# Example usage\n",
    "password = input(\"Enter your password: \")\n",
    "print(validate_password(password))\n"
   ]
  },
  {
   "cell_type": "code",
   "execution_count": 74,
   "id": "29ce9374-188a-45d8-83fa-cbb8372694a0",
   "metadata": {},
   "outputs": [
    {
     "name": "stdin",
     "output_type": "stream",
     "text": [
      "Enter number of rows:  2\n",
      "Enter number of columns:  2\n"
     ]
    },
    {
     "name": "stdout",
     "output_type": "stream",
     "text": [
      "Enter values for matrix 1:\n"
     ]
    },
    {
     "name": "stdin",
     "output_type": "stream",
     "text": [
      "Enter value for matrix1[0][0]:  1\n",
      "Enter value for matrix1[0][1]:  2\n",
      "Enter value for matrix1[1][0]:  3\n",
      "Enter value for matrix1[1][1]:  4\n"
     ]
    },
    {
     "name": "stdout",
     "output_type": "stream",
     "text": [
      "Enter values for matrix 2:\n"
     ]
    },
    {
     "name": "stdin",
     "output_type": "stream",
     "text": [
      "Enter value for matrix2[0][0]:  5\n",
      "Enter value for matrix2[0][1]:  6\n",
      "Enter value for matrix2[1][0]:  7\n",
      "Enter value for matrix2[1][1]:  8\n"
     ]
    },
    {
     "name": "stdout",
     "output_type": "stream",
     "text": [
      "\n",
      "Matrix 1:\n",
      " [[1. 2.]\n",
      " [3. 4.]]\n",
      "\n",
      "Matrix 2:\n",
      " [[5. 6.]\n",
      " [7. 8.]]\n",
      "\n",
      "Matrix Addition:\n",
      " [[ 6.  8.]\n",
      " [10. 12.]]\n",
      "\n",
      "Matrix Subtraction:\n",
      " [[-4. -4.]\n",
      " [-4. -4.]]\n"
     ]
    }
   ],
   "source": [
    "#32. . Develop a program that performs matrix addition and subtraction based on user input.\n",
    "import numpy as np\n",
    "\n",
    "def matrix_operations():\n",
    "    # Get matrix dimensions from user\n",
    "    rows = int(input(\"Enter number of rows: \"))\n",
    "    cols = int(input(\"Enter number of columns: \"))\n",
    "\n",
    "    # Initialize matrices\n",
    "    matrix1 = np.zeros((rows, cols))\n",
    "    matrix2 = np.zeros((rows, cols))\n",
    "\n",
    "    # Get matrix values from user\n",
    "    print(\"Enter values for matrix 1:\")\n",
    "    for i in range(rows):\n",
    "        for j in range(cols):\n",
    "            matrix1[i][j] = float(input(\"Enter value for matrix1[{}][{}]: \".format(i, j)))\n",
    "\n",
    "    print(\"Enter values for matrix 2:\")\n",
    "    for i in range(rows):\n",
    "        for j in range(cols):\n",
    "            matrix2[i][j] = float(input(\"Enter value for matrix2[{}][{}]: \".format(i, j)))\n",
    "\n",
    "    # Perform operations\n",
    "    print(\"\\nMatrix 1:\\n\", matrix1)\n",
    "    print(\"\\nMatrix 2:\\n\", matrix2)\n",
    "    print(\"\\nMatrix Addition:\\n\", matrix1 + matrix2)\n",
    "    print(\"\\nMatrix Subtraction:\\n\", matrix1 - matrix2)\n",
    "\n",
    "# Example usage\n",
    "matrix_operations()"
   ]
  },
  {
   "cell_type": "code",
   "execution_count": 75,
   "id": "b062e409-aa12-4dd7-8fa3-90235895891a",
   "metadata": {},
   "outputs": [
    {
     "name": "stdout",
     "output_type": "stream",
     "text": [
      "GCD of 36 and 48 is: 12\n"
     ]
    }
   ],
   "source": [
    "#33. Write a program that calculates the greatest common divisor (GCD) of two numbers using the Euclidean\n",
    "#algorithm.\n",
    "def gcd(a, b):\n",
    "    while b:\n",
    "        a, b = b, a % b\n",
    "    return a\n",
    "\n",
    "# Example usage\n",
    "num1 = 36\n",
    "num2 = 48\n",
    "print(\"GCD of\", num1, \"and\", num2, \"is:\", gcd(num1, num2))\n"
   ]
  },
  {
   "cell_type": "code",
   "execution_count": 76,
   "id": "3ab9fce6-be92-42af-bdeb-a445985d1e91",
   "metadata": {},
   "outputs": [
    {
     "name": "stdout",
     "output_type": "stream",
     "text": [
      "Matrix Multiplication:\n",
      " [[19, 22], [43, 50]]\n"
     ]
    }
   ],
   "source": [
    "#34. Build a program that performs matrix multiplication using nested loops and conditional statements.\n",
    "def matrix_multiplication(matrix1, matrix2):\n",
    "    result = []\n",
    "    for i in range(len(matrix1)):\n",
    "        row = []\n",
    "        for j in range(len(matrix2[0])):\n",
    "            total = 0\n",
    "            for k in range(len(matrix2)):\n",
    "                total += matrix1[i][k] * matrix2[k][j]\n",
    "            row.append(total)\n",
    "        result.append(row)\n",
    "    return result\n",
    "\n",
    "# Example usage\n",
    "matrix1 = [[1, 2], [3, 4]]\n",
    "matrix2 = [[5, 6], [7, 8]]\n",
    "print(\"Matrix Multiplication:\\n\", matrix_multiplication(matrix1, matrix2))\n"
   ]
  },
  {
   "cell_type": "code",
   "execution_count": 77,
   "id": "e6279a7d-92d2-49f9-a336-88e79bee8245",
   "metadata": {},
   "outputs": [
    {
     "name": "stdout",
     "output_type": "stream",
     "text": [
      "Welcome to Tic-Tac-Toe!\n",
      "  |   |  \n",
      "-----\n",
      "  |   |  \n",
      "-----\n",
      "  |   |  \n",
      "-----\n",
      "Player X\n"
     ]
    },
    {
     "name": "stdin",
     "output_type": "stream",
     "text": [
      "Enter row (0-2):  1\n",
      "Enter column (0-2):  1\n"
     ]
    },
    {
     "name": "stdout",
     "output_type": "stream",
     "text": [
      "  |   |  \n",
      "-----\n",
      "  | X |  \n",
      "-----\n",
      "  |   |  \n",
      "-----\n",
      "Player O\n"
     ]
    },
    {
     "name": "stdin",
     "output_type": "stream",
     "text": [
      "Enter row (0-2):  0\n",
      "Enter column (0-2):  0\n"
     ]
    },
    {
     "name": "stdout",
     "output_type": "stream",
     "text": [
      "O |   |  \n",
      "-----\n",
      "  | X |  \n",
      "-----\n",
      "  |   |  \n",
      "-----\n",
      "Player X\n"
     ]
    },
    {
     "name": "stdin",
     "output_type": "stream",
     "text": [
      "Enter row (0-2):  0\n",
      "Enter column (0-2):  1\n"
     ]
    },
    {
     "name": "stdout",
     "output_type": "stream",
     "text": [
      "O | X |  \n",
      "-----\n",
      "  | X |  \n",
      "-----\n",
      "  |   |  \n",
      "-----\n",
      "Player O\n"
     ]
    },
    {
     "name": "stdin",
     "output_type": "stream",
     "text": [
      "Enter row (0-2):  2\n",
      "Enter column (0-2):  2\n"
     ]
    },
    {
     "name": "stdout",
     "output_type": "stream",
     "text": [
      "O | X |  \n",
      "-----\n",
      "  | X |  \n",
      "-----\n",
      "  |   | O\n",
      "-----\n",
      "Player X\n"
     ]
    },
    {
     "name": "stdin",
     "output_type": "stream",
     "text": [
      "Enter row (0-2):  2\n",
      "Enter column (0-2):  0\n"
     ]
    },
    {
     "name": "stdout",
     "output_type": "stream",
     "text": [
      "O | X |  \n",
      "-----\n",
      "  | X |  \n",
      "-----\n",
      "X |   | O\n",
      "-----\n",
      "Player O\n"
     ]
    },
    {
     "name": "stdin",
     "output_type": "stream",
     "text": [
      "Enter row (0-2):  1\n",
      "Enter column (0-2):  0\n"
     ]
    },
    {
     "name": "stdout",
     "output_type": "stream",
     "text": [
      "O | X |  \n",
      "-----\n",
      "O | X |  \n",
      "-----\n",
      "X |   | O\n",
      "-----\n",
      "Player X\n"
     ]
    },
    {
     "name": "stdin",
     "output_type": "stream",
     "text": [
      "Enter row (0-2):  1\n",
      "Enter column (0-2):  2\n"
     ]
    },
    {
     "name": "stdout",
     "output_type": "stream",
     "text": [
      "O | X |  \n",
      "-----\n",
      "O | X | X\n",
      "-----\n",
      "X |   | O\n",
      "-----\n",
      "Player O\n"
     ]
    },
    {
     "name": "stdin",
     "output_type": "stream",
     "text": [
      "Enter row (0-2):  2\n",
      "Enter column (0-2):  1\n"
     ]
    },
    {
     "name": "stdout",
     "output_type": "stream",
     "text": [
      "O | X |  \n",
      "-----\n",
      "O | X | X\n",
      "-----\n",
      "X | O | O\n",
      "-----\n",
      "Player X\n"
     ]
    },
    {
     "name": "stdin",
     "output_type": "stream",
     "text": [
      "Enter row (0-2):  0\n",
      "Enter column (0-2):  2\n"
     ]
    },
    {
     "name": "stdout",
     "output_type": "stream",
     "text": [
      "O | X | X\n",
      "-----\n",
      "O | X | X\n",
      "-----\n",
      "X | O | O\n",
      "-----\n",
      "Player X wins!\n"
     ]
    }
   ],
   "source": [
    "#35. Create a program that simulates a basic text-based tic-tac-toe game against the computer.\n",
    "import random\n",
    "\n",
    "def print_board(board):\n",
    "    for row in board:\n",
    "        print(\" | \".join(row))\n",
    "        print(\"-\" * 5)\n",
    "\n",
    "def check_winner(board, player):\n",
    "    for row in board:\n",
    "        if all(cell == player for cell in row):\n",
    "            return True\n",
    "    for col in range(3):\n",
    "        if all(board[row][col] == player for row in range(3)):\n",
    "            return True\n",
    "    if all(board[i][i] == player for i in range(3)) or all(board[i][2-i] == player for i in range(3)):\n",
    "        return True\n",
    "    return False\n",
    "\n",
    "def tictactoe():\n",
    "    board = [[\" \" for _ in range(3)] for _ in range(3)]\n",
    "    players = [\"X\", \"O\"]\n",
    "    turn = 0\n",
    "    print(\"Welcome to Tic-Tac-Toe!\")\n",
    "    while True:\n",
    "        print_board(board)\n",
    "        player = players[turn % 2]\n",
    "        print(\"Player\", player)\n",
    "        row = int(input(\"Enter row (0-2): \"))\n",
    "        col = int(input(\"Enter column (0-2): \"))\n",
    "        if board[row][col] != \" \":\n",
    "            print(\"That cell is already taken. Try again.\")\n",
    "            continue\n",
    "        board[row][col] = player\n",
    "        if check_winner(board, player):\n",
    "            print_board(board)\n",
    "            print(\"Player\", player, \"wins!\")\n",
    "            break\n",
    "        if all(all(cell != \" \" for cell in row) for row in board):\n",
    "            print_board(board)\n",
    "            print(\"It's a tie!\")\n",
    "            break\n",
    "        turn += 1\n",
    "\n",
    "# Example usage\n",
    "tictactoe()"
   ]
  },
  {
   "cell_type": "code",
   "execution_count": 78,
   "id": "4bf351c3-03f2-47f9-95f9-20640aaa4724",
   "metadata": {},
   "outputs": [
    {
     "name": "stdout",
     "output_type": "stream",
     "text": [
      "Fibonacci sequence up to 10 terms: [0, 1, 1, 2, 3, 5, 8, 13, 21, 34]\n"
     ]
    }
   ],
   "source": [
    "#36. Write a program that generates Fibonacci numbers up to a specified term using iterative methods.\n",
    "def generate_fibonacci(n):\n",
    "    fib_sequence = [0, 1]\n",
    "    for i in range(2, n):\n",
    "        fib_sequence.append(fib_sequence[i-1] + fib_sequence[i-2])\n",
    "    return fib_sequence\n",
    "\n",
    "# Example usage\n",
    "n = 10\n",
    "print(\"Fibonacci sequence up to\", n, \"terms:\", generate_fibonacci(n))\n"
   ]
  },
  {
   "cell_type": "code",
   "execution_count": 79,
   "id": "45ddd26a-5ff0-4744-b215-6987957c2408",
   "metadata": {},
   "outputs": [
    {
     "name": "stdout",
     "output_type": "stream",
     "text": [
      "Fibonacci term at position 10 is: 55\n"
     ]
    }
   ],
   "source": [
    "#37. Develop a program that calculates the nth term of the Fibonacci sequence using memoization.\n",
    "def fibonacci(n, memo={}):\n",
    "    if n in memo:\n",
    "        return memo[n]\n",
    "    if n <= 1:\n",
    "        return n\n",
    "    memo[n] = fibonacci(n-1, memo) + fibonacci(n-2, memo)\n",
    "    return memo[n]\n",
    "\n",
    "# Example usage\n",
    "n = 10\n",
    "print(\"Fibonacci term at position\", n, \"is:\", fibonacci(n))"
   ]
  },
  {
   "cell_type": "code",
   "execution_count": 80,
   "id": "e54f4dab-1901-40fc-a6ec-4ad85093e3b5",
   "metadata": {},
   "outputs": [
    {
     "name": "stdout",
     "output_type": "stream",
     "text": [
      "          1  2  3  4\n",
      " 5  6  7  8  9 10 11\n",
      "12 13 14 15 16 17 18\n",
      "19 20 21 22 23 24 25\n",
      "26 27 28 29         \n"
     ]
    }
   ],
   "source": [
    "#38. Create a program that generates a calendar for a given month and year using conditional statements.\n",
    "import calendar\n",
    "\n",
    "def generate_calendar(year, month):\n",
    "    cal = calendar.monthcalendar(year, month)\n",
    "    for week in cal:\n",
    "        print(\" \".join(str(day).rjust(2) if day != 0 else \"  \" for day in week))\n",
    "\n",
    "# Example usage\n",
    "year = 2024\n",
    "month = 2\n",
    "generate_calendar(year, month)\n"
   ]
  },
  {
   "cell_type": "code",
   "execution_count": 82,
   "id": "c1aed225-1d04-493b-b329-07056e8b7229",
   "metadata": {},
   "outputs": [
    {
     "name": "stdout",
     "output_type": "stream",
     "text": [
      "Welcome to Blackjack!\n",
      "Hand:\n",
      "Ace Hearts\n",
      "King Hearts\n",
      "Dealer's hand:\n",
      "X Ace\n"
     ]
    },
    {
     "name": "stdin",
     "output_type": "stream",
     "text": [
      "Do you want to (h)it or (s)tand?  heart\n",
      "Do you want to (h)it or (s)tand?  x\n",
      "Do you want to (h)it or (s)tand?  h\n"
     ]
    },
    {
     "name": "stdout",
     "output_type": "stream",
     "text": [
      "You drew:\n",
      "Jack Hearts\n"
     ]
    },
    {
     "name": "stdin",
     "output_type": "stream",
     "text": [
      "Do you want to (h)it or (s)tand?  s\n"
     ]
    },
    {
     "name": "stdout",
     "output_type": "stream",
     "text": [
      "\n",
      "Dealer's turn\n",
      "Hand:\n",
      "3 Clubs\n",
      "Ace Diamonds\n",
      "\n",
      "Dealer drew:\n",
      "9 Spades\n",
      "\n",
      "Dealer drew:\n",
      "Queen Spades\n",
      "\n",
      "Your score: 21\n",
      "Dealer's score: 23\n",
      "Dealer busts! You win.\n"
     ]
    }
   ],
   "source": [
    "#39. Build a program that simulates a basic text-based blackjack game against the computer.\n",
    "\n",
    "import random\n",
    "\n",
    "def create_deck():\n",
    "    suits = ['Hearts', 'Diamonds', 'Clubs', 'Spades']\n",
    "    values = ['2', '3', '4', '5', '6', '7', '8', '9', '10', 'Jack', 'Queen', 'King', 'Ace']\n",
    "    deck = [{'suit': suit, 'value': value} for suit in suits for value in values]\n",
    "    random.shuffle(deck)\n",
    "    return deck\n",
    "\n",
    "def card_value(card):\n",
    "    if card['value'] in ['Jack', 'Queen', 'King']:\n",
    "        return 10\n",
    "    elif card['value'] == 'Ace':\n",
    "        return 11\n",
    "    else:\n",
    "        return int(card['value'])\n",
    "\n",
    "def calculate_hand_value(hand):\n",
    "    value = sum(card_value(card) for card in hand)\n",
    "    num_aces = sum(1 for card in hand if card['value'] == 'Ace')\n",
    "    while value > 21 and num_aces:\n",
    "        value -= 10\n",
    "        num_aces -= 1\n",
    "    return value\n",
    "\n",
    "def display_hand(hand, hide_first_card=False):\n",
    "    if hide_first_card:\n",
    "        print(\"Dealer's hand:\")\n",
    "        print(\"X\", hand[1]['value'])\n",
    "    else:\n",
    "        print(\"Hand:\")\n",
    "        for card in hand:\n",
    "            print(card['value'], card['suit'])\n",
    "\n",
    "def blackjack_game():\n",
    "    deck = create_deck()\n",
    "    player_hand = [deck.pop(), deck.pop()]\n",
    "    dealer_hand = [deck.pop(), deck.pop()]\n",
    "\n",
    "    print(\"Welcome to Blackjack!\")\n",
    "\n",
    "    display_hand(player_hand)\n",
    "    display_hand(dealer_hand, hide_first_card=True)\n",
    "\n",
    "    while True:\n",
    "        action = input(\"Do you want to (h)it or (s)tand? \")\n",
    "        if action.lower() == 'h':\n",
    "            player_hand.append(deck.pop())\n",
    "            print(\"You drew:\")\n",
    "            print(player_hand[-1]['value'], player_hand[-1]['suit'])\n",
    "            if calculate_hand_value(player_hand) > 21:\n",
    "                print(\"You bust! Dealer wins.\")\n",
    "                return\n",
    "        elif action.lower() == 's':\n",
    "            break\n",
    "\n",
    "    print(\"\\nDealer's turn\")\n",
    "    display_hand(dealer_hand)\n",
    "    while calculate_hand_value(dealer_hand) < 17:\n",
    "        dealer_hand.append(deck.pop())\n",
    "        print(\"\\nDealer drew:\")\n",
    "        print(dealer_hand[-1]['value'], dealer_hand[-1]['suit'])\n",
    "\n",
    "    player_score = calculate_hand_value(player_hand)\n",
    "    dealer_score = calculate_hand_value(dealer_hand)\n",
    "\n",
    "    print(\"\\nYour score:\", player_score)\n",
    "    print(\"Dealer's score:\", dealer_score)\n",
    "\n",
    "    if player_score > 21:\n",
    "        print(\"You bust! Dealer wins.\")\n",
    "    elif dealer_score > 21:\n",
    "        print(\"Dealer busts! You win.\")\n",
    "    elif player_score > dealer_score:\n",
    "        print(\"You win!\")\n",
    "    elif player_score < dealer_score:\n",
    "        print(\"Dealer wins.\")\n",
    "    else:\n",
    "        print(\"It's a tie.\")\n",
    "\n",
    "# Start the game\n",
    "blackjack_game()\n"
   ]
  },
  {
   "cell_type": "code",
   "execution_count": null,
   "id": "b0b13a77-5723-4a86-8fd0-75c2c1cbbe14",
   "metadata": {},
   "outputs": [],
   "source": [
    "#40. Write a program that generates the prime factors of a given number using trial division.\n",
    "def prime_factors(n):\n",
    "    factors = []\n",
    "    divisor = 2\n",
    "    while n > 1:\n",
    "        while n % divisor == 0:\n",
    "            factors.append(divisor)\n",
    "            n //= divisor\n",
    "        divisor += 1\n",
    "    return factors\n",
    "\n",
    "# Example usage\n",
    "num = int(input(\"Enter a number: \"))\n",
    "print(\"Prime factors of\", num, \"are:\", prime_factors(num))\n"
   ]
  }
 ],
 "metadata": {
  "kernelspec": {
   "display_name": "Python 3 (ipykernel)",
   "language": "python",
   "name": "python3"
  },
  "language_info": {
   "codemirror_mode": {
    "name": "ipython",
    "version": 3
   },
   "file_extension": ".py",
   "mimetype": "text/x-python",
   "name": "python",
   "nbconvert_exporter": "python",
   "pygments_lexer": "ipython3",
   "version": "3.10.8"
  }
 },
 "nbformat": 4,
 "nbformat_minor": 5
}
